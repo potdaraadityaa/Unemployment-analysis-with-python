from IPython.display import Image
Image(url='https://i.ytimg.com/vi/AuyaLp2z6Bs/maxresdefault.jpg', width=850)

import numpy as np
import pandas as pd
import matplotlib.pyplot as plt
import seaborn as sns
import plotly .express as px

data = pd.read_csv('/content/Unemployment in India.csv')
data
     

# checking dataset information
data.info()
     

# describing the dataset
data.describe()
     

# check null/missing values
data.isnull().sum()
     

# rename columns
data.columns = ['States','Date','Frequency','Estimated Unemployment Rate',
                'Estimated Employed','Estimated Labour Participation Rate',
                'Region',]
     

# analysing top rows of dataset
data.head()

# plotting correlation heatmap

plt.style.use('seaborn-whitegrid')
plt.figure(figsize=(8,6))
corr = data.corr()


# Set tick parameters
ax = sns.heatmap(corr, annot=True,linewidths=3)
ax.tick_params(size=10,color='w',labelsize=10, labelcolor='w')

# Compute the correlation matrix and plot the heatmap
ax = sns.heatmap(data.corr(), annot=True,linewidth=3)

plt.show()

# plotting histplot

data.columns=['States','Date','Frequency','Estimated Unemployment Rate',
                'Estimated Employed','Estimated Labour Participation Rate',
                'Region',]
plt.title('Indian Unemployment')
sns.histplot(x='Estimated Employed',hue='Region',data=data)
plt.show()

# plotting histplot

plt.figure(figsize=(10,8))
plt.title("Indian Unemployment")
sns.histplot(x="Estimated Unemployment Rate",hue='Region',data=data)
plt.show()

# plotting sunburst
import pandas as pd
import plotly.express as px

# Create a sample dataframe
df = pd.DataFrame({
    "States": ["Maharashtra", "Maharashtra", "Tamil Nadu", "Tamil Nadu", "Kerala", "Kerala"],
    "Region": ["West", "South", "South", "West", "South", "West"],
    "Estimated Unemployment Rate": [8.9, 5.2, 5.9, 4.8, 11.4, 7.3]
})

# Plot the sunburst chart
figure = px.sunburst(df, path=["States", "Region"],
                     values="Estimated Unemployment Rate",
                     width=700, height=600, color_continuous_scale="RdY1Gn",
                     title="Unemployment Rate in India")

# Display the chart
figure.show()

